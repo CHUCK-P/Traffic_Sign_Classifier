{
 "cells": [
  {
   "cell_type": "markdown",
   "metadata": {},
   "source": [
    "# Self-Driving Car Engineer Nanodegree\n",
    "\n",
    "## Deep Learning\n",
    "\n",
    "## Project: Build a Traffic Sign Recognition Classifier\n",
    "\n",
    "In this notebook, a template is provided for you to implement your functionality in stages, which is required to successfully complete this project. If additional code is required that cannot be included in the notebook, be sure that the Python code is successfully imported and included in your submission if necessary. \n",
    "\n",
    "> **Note**: Once you have completed all of the code implementations, you need to finalize your work by exporting the iPython Notebook as an HTML document. Before exporting the notebook to html, all of the code cells need to have been run so that reviewers can see the final implementation and output. You can then export the notebook by using the menu above and navigating to  \\n\",\n",
    "    \"**File -> Download as -> HTML (.html)**. Include the finished document along with this notebook as your submission. \n",
    "\n",
    "In addition to implementing code, there is a writeup to complete. The writeup should be completed in a separate file, which can be either a markdown file or a pdf document. There is a [write up template](https://github.com/udacity/CarND-Traffic-Sign-Classifier-Project/blob/master/writeup_template.md) that can be used to guide the writing process. Completing the code template and writeup template will cover all of the [rubric points](https://review.udacity.com/#!/rubrics/481/view) for this project.\n",
    "\n",
    "The [rubric](https://review.udacity.com/#!/rubrics/481/view) contains \"Stand Out Suggestions\" for enhancing the project beyond the minimum requirements. The stand out suggestions are optional. If you decide to pursue the \"stand out suggestions\", you can include the code in this Ipython notebook and also discuss the results in the writeup file.\n",
    "\n",
    "\n",
    ">**Note:** Code and Markdown cells can be executed using the **Shift + Enter** keyboard shortcut. In addition, Markdown cells can be edited by typically double-clicking the cell to enter edit mode."
   ]
  },
  {
   "cell_type": "markdown",
   "metadata": {},
   "source": [
    "---\n",
    "## Step 0: Load The Data"
   ]
  },
  {
   "cell_type": "code",
   "execution_count": 12,
   "metadata": {
    "collapsed": true
   },
   "outputs": [],
   "source": [
    "# Load pickled data\n",
    "import pickle\n",
    "\n",
    "# TODO: Fill this in based on where you saved the training and testing data\n",
    "\n",
    "training_file = 'train.p'\n",
    "validation_file='valid.p'\n",
    "testing_file = 'test.p'\n",
    "\n",
    "with open(training_file, mode='rb') as f:\n",
    "    train = pickle.load(f)\n",
    "with open(validation_file, mode='rb') as f:\n",
    "    valid = pickle.load(f)\n",
    "with open(testing_file, mode='rb') as f:\n",
    "    test = pickle.load(f)\n",
    "    \n",
    "X_train, y_train = train['features'], train['labels']\n",
    "X_valid, y_valid = valid['features'], valid['labels']\n",
    "X_test, y_test = test['features'], test['labels']"
   ]
  },
  {
   "cell_type": "markdown",
   "metadata": {},
   "source": [
    "---\n",
    "\n",
    "## Step 1: Dataset Summary & Exploration\n",
    "\n",
    "The pickled data is a dictionary with 4 key/value pairs:\n",
    "\n",
    "- `'features'` is a 4D array containing raw pixel data of the traffic sign images, (num examples, width, height, channels).\n",
    "- `'labels'` is a 1D array containing the label/class id of the traffic sign. The file `signnames.csv` contains id -> name mappings for each id.\n",
    "- `'sizes'` is a list containing tuples, (width, height) representing the original width and height the image.\n",
    "- `'coords'` is a list containing tuples, (x1, y1, x2, y2) representing coordinates of a bounding box around the sign in the image. **THESE COORDINATES ASSUME THE ORIGINAL IMAGE. THE PICKLED DATA CONTAINS RESIZED VERSIONS (32 by 32) OF THESE IMAGES**\n",
    "\n",
    "Complete the basic data summary below. Use python, numpy and/or pandas methods to calculate the data summary rather than hard coding the results. For example, the [pandas shape method](http://pandas.pydata.org/pandas-docs/stable/generated/pandas.DataFrame.shape.html) might be useful for calculating some of the summary results. "
   ]
  },
  {
   "cell_type": "markdown",
   "metadata": {},
   "source": [
    "### Provide a Basic Summary of the Data Set Using Python, Numpy and/or Pandas"
   ]
  },
  {
   "cell_type": "code",
   "execution_count": 13,
   "metadata": {},
   "outputs": [
    {
     "name": "stdout",
     "output_type": "stream",
     "text": [
      "Number of training examples = 34799\n",
      "Number of y training labels = 34799\n",
      "Number of validation examples = 4410\n",
      "Number of testing examples = 12630\n",
      "Image data shape = (32, 32, 3)\n",
      "Number of classes = 43\n"
     ]
    }
   ],
   "source": [
    "### Replace each question mark with the appropriate value. \n",
    "### Use python, pandas or numpy methods rather than hard coding the results\n",
    "import pandas as pd\n",
    "import numpy as np\n",
    "\n",
    "# TODO: Number of training examples\n",
    "n_train = len(X_train)\n",
    "n_y_train = len(y_train)\n",
    "\n",
    "# TODO: Number of validation examples\n",
    "n_validation = len(X_valid)\n",
    "\n",
    "# TODO: Number of testing examples.\n",
    "n_test = len(X_test)\n",
    "\n",
    "# TODO: What's the shape of an traffic sign image?\n",
    "image_shape = X_train[0].shape\n",
    "\n",
    "# TODO: How many unique classes/labels there are in the dataset.\n",
    "n_classes = len(np.unique(y_train))\n",
    "\n",
    "print(\"Number of training examples =\", n_train)\n",
    "print(\"Number of y training labels =\", n_y_train)\n",
    "print(\"Number of validation examples =\", n_validation)\n",
    "print(\"Number of testing examples =\", n_test)\n",
    "print(\"Image data shape =\", image_shape)\n",
    "print(\"Number of classes =\", n_classes)"
   ]
  },
  {
   "cell_type": "markdown",
   "metadata": {},
   "source": [
    "### Include an exploratory visualization of the dataset"
   ]
  },
  {
   "cell_type": "markdown",
   "metadata": {},
   "source": [
    "Visualize the German Traffic Signs Dataset using the pickled file(s). This is open ended, suggestions include: plotting traffic sign images, plotting the count of each sign, etc. \n",
    "\n",
    "The [Matplotlib](http://matplotlib.org/) [examples](http://matplotlib.org/examples/index.html) and [gallery](http://matplotlib.org/gallery.html) pages are a great resource for doing visualizations in Python.\n",
    "\n",
    "**NOTE:** It's recommended you start with something simple first. If you wish to do more, come back to it after you've completed the rest of the sections. It can be interesting to look at the distribution of classes in the training, validation and test set. Is the distribution the same? Are there more examples of some classes than others?"
   ]
  },
  {
   "cell_type": "code",
   "execution_count": 14,
   "metadata": {},
   "outputs": [
    {
     "name": "stdout",
     "output_type": "stream",
     "text": [
      "10\n"
     ]
    },
    {
     "data": {
      "image/png": "[encoded data removed]",
      "text/plain": [
       "<matplotlib.figure.Figure at 0x7f2bfb093c88>"
      ]
     },
     "metadata": {},
     "output_type": "display_data"
    }
   ],
   "source": [
    "### Data exploration visualization code goes here.\n",
    "### Feel free to use as many code cells as needed.\n",
    "import random\n",
    "import matplotlib.pyplot as plt\n",
    "# Visualizations will be shown in the notebook.\n",
    "%matplotlib inline\n",
    "\n",
    "index = random.randint(0, len(X_train))\n",
    "image = X_train[index].squeeze()\n",
    "\n",
    "plt.figure(figsize=(5,5))\n",
    "plt.imshow(image)\n",
    "print(y_train[index])"
   ]
  },
  {
   "cell_type": "code",
   "execution_count": 15,
   "metadata": {},
   "outputs": [
    {
     "data": {
      "image/png": "[encoded data removed]",
      "text/plain": [
       "<matplotlib.figure.Figure at 0x7f2c1c6f8358>"
      ]
     },
     "metadata": {},
     "output_type": "display_data"
    }
   ],
   "source": [
    "fig,ax = plt.subplots()\n",
    "#histogram of the data\n",
    "n, bins, patches = ax.hist(y_train,n_classes) #normed=1\n",
    "ax.set_xlabel('Training Dataset Class')\n",
    "ax.set_ylabel('Density')\n",
    "ax.set_title('Histogram of the training data unique classes')\n",
    "#\n",
    "fig.tight_layout()\n",
    "plt.show()\n",
    "\n",
    "fig.savefig('./examples/plot1.png')"
   ]
  },
  {
   "cell_type": "code",
   "execution_count": 16,
   "metadata": {
    "collapsed": true
   },
   "outputs": [],
   "source": [
    "# FUNCTIONS\n",
    "\n",
    "# import packages\n",
    "from scipy import ndimage\n",
    "import cv2\n",
    "\n",
    "# from numpy import newaxis HOLD\n",
    "\n",
    "# Normalize the training data and the validation data to be between -1 and 1 (-1 and .992) from single channel data 0 to 255\n",
    "def normalize(image):\n",
    "    image = (image - 127.5) / 127.5\n",
    "    return image\n",
    "\n",
    "def resizeImage(image):\n",
    "    return cv2.resize(image,(32,32),interpolation = cv2.INTER_AREA)\n",
    "\n",
    "def cropImage(input):\n",
    "    roi = input[7:25,7:25]\n",
    "    return resizeImage(roi)\n",
    "\n",
    "def sharpen(image):\n",
    "    img = cv2.GaussianBlur(image,(9,9), 10);\n",
    "    img1 =  cv2.addWeighted(image, 2, img, -1, 0);\n",
    "    return img1\n",
    "\n",
    "def Transform(image,rot):\n",
    "    return resizeImage(ndimage.rotate(image, rot))\n",
    "\n",
    "# PREPROCESS PIPELINE\n",
    "def pipeline(input):\n",
    "    # 1. Convert input RGB image to grayscale\n",
    "    # 2. Normalize image range -1.0 to 1.0\n",
    "    # 3. Crop image to remove unnecessary pixels\n",
    "    # 4. Sharpen the cropped image\n",
    "    gray = cv2.cvtColor(input,cv2.COLOR_BGR2GRAY)\n",
    "    norm = normalize(gray)\n",
    "    crop = cropImage(norm)\n",
    "    sharp = sharpen(crop)\n",
    "    return sharp\n"
   ]
  },
  {
   "cell_type": "code",
   "execution_count": 17,
   "metadata": {},
   "outputs": [
    {
     "data": {
      "image/png": "[encoded data removed]",
      "text/plain": [
       "<matplotlib.figure.Figure at 0x7f2c1c5e17f0>"
      ]
     },
     "metadata": {},
     "output_type": "display_data"
    },
    {
     "data": {
      "image/png": "[encoded data removed]",
      "text/plain": [
       "<matplotlib.figure.Figure at 0x7f2bfb2e0ba8>"
      ]
     },
     "metadata": {},
     "output_type": "display_data"
    },
    {
     "data": {
      "image/png": "[encoded data removed]",
      "text/plain": [
       "<matplotlib.figure.Figure at 0x7f2c0bd5aba8>"
      ]
     },
     "metadata": {},
     "output_type": "display_data"
    },
    {
     "data": {
      "image/png": "[encoded data removed]",
      "text/plain": [
       "<matplotlib.figure.Figure at 0x7f2c0bd119b0>"
      ]
     },
     "metadata": {},
     "output_type": "display_data"
    }
   ],
   "source": [
    "# Display random 5 images\n",
    "\n",
    "index = 4 # Choose a label to draw \n",
    "\n",
    "disp = [X_train[i] for i in range(len(y_train)) if (y_train[i]==index)]\n",
    "valid = [X_valid[i] for i in range(len(y_valid)) if (y_valid[i]==index)]\n",
    "\n",
    "fig = plt.figure(figsize=(10,10))\n",
    "for j in range(0,5):\n",
    "    plt.subplot(1,5,j+1)\n",
    "    plt.imshow(disp[j])\n",
    "\n",
    "fig1 = plt.figure(figsize=(10,10))\n",
    "for j in range(0,5):\n",
    "    plt.subplot(1,5,j+1)\n",
    "    plt.imshow(pipeline(disp[j]))\n",
    "\n",
    "fig2 = plt.figure(figsize=(10,10))\n",
    "for j in range(0,5):\n",
    "    plt.subplot(1,5,j+1)\n",
    "    plt.imshow(valid[j])\n",
    "\n",
    "fig3 = plt.figure(figsize=(10,10))\n",
    "for j in range(0,5):\n",
    "    plt.subplot(1,5,j+1)\n",
    "    plt.imshow(pipeline(valid[j]))"
   ]
  },
  {
   "cell_type": "markdown",
   "metadata": {},
   "source": [
    "----\n",
    "\n",
    "## Step 2: Design and Test a Model Architecture\n",
    "\n",
    "Design and implement a deep learning model that learns to recognize traffic signs. Train and test your model on the [German Traffic Sign Dataset](http://benchmark.ini.rub.de/?section=gtsrb&subsection=dataset).\n",
    "\n",
    "The LeNet-5 implementation shown in the [classroom](https://classroom.udacity.com/nanodegrees/nd013/parts/fbf77062-5703-404e-b60c-95b78b2f3f9e/modules/6df7ae49-c61c-4bb2-a23e-6527e69209ec/lessons/601ae704-1035-4287-8b11-e2c2716217ad/concepts/d4aca031-508f-4e0b-b493-e7b706120f81) at the end of the CNN lesson is a solid starting point. You'll have to change the number of classes and possibly the preprocessing, but aside from that it's plug and play! \n",
    "\n",
    "With the LeNet-5 solution from the lecture, you should expect a validation set accuracy of about 0.89. To meet specifications, the validation set accuracy will need to be at least 0.93. It is possible to get an even higher accuracy, but 0.93 is the minimum for a successful project submission. \n",
    "\n",
    "There are various aspects to consider when thinking about this problem:\n",
    "\n",
    "- Neural network architecture (is the network over or underfitting?)\n",
    "- Play around preprocessing techniques (normalization, rgb to grayscale, etc)\n",
    "- Number of examples per label (some have more than others).\n",
    "- Generate fake data.\n",
    "\n",
    "Here is an example of a [published baseline model on this problem](http://yann.lecun.com/exdb/publis/pdf/sermanet-ijcnn-11.pdf). It's not required to be familiar with the approach used in the paper but, it's good practice to try to read papers like these."
   ]
  },
  {
   "cell_type": "markdown",
   "metadata": {},
   "source": [
    "### Pre-process the Data Set (normalization, grayscale, etc.)"
   ]
  },
  {
   "cell_type": "markdown",
   "metadata": {},
   "source": [
    "Minimally, the image data should be normalized so that the data has mean zero and equal variance. For image data, `(pixel - 128)/ 128` is a quick way to approximately normalize the data and can be used in this project. \n",
    "\n",
    "Other pre-processing steps are optional. You can try different techniques to see if it improves performance. \n",
    "\n",
    "Use the code cell (or multiple code cells, if necessary) to implement the first step of your project."
   ]
  },
  {
   "cell_type": "code",
   "execution_count": 18,
   "metadata": {
    "collapsed": true,
    "scrolled": true
   },
   "outputs": [],
   "source": [
    "### Preprocess the data here. It is required to normalize the data. Other preprocessing steps could include \n",
    "### converting to grayscale, etc.\n",
    "### Feel free to use as many code cells as needed.\n",
    "\n",
    "\n",
    "# Preprocess all data\n",
    "# set up gray scaled placeholder images\n",
    "X_train_gray = np.zeros((len(X_train),32,32))\n",
    "X_valid_gray = np.zeros((len(X_valid),32,32))\n",
    "X_test_gray = np.zeros((len(X_test),32,32))\n",
    "\n",
    "# populate the placeholders\n",
    "for i in range(len(X_train)):\n",
    "    X_train_gray[i] = pipeline(X_train[i])\n",
    "\n",
    "for i in range(len(X_valid)):\n",
    "    X_valid_gray[i] = pipeline(X_valid[i])\n",
    "\n",
    "for i in range(len(X_test)):\n",
    "    X_test_gray[i] = pipeline(X_test[i])\n",
    "\n",
    "# Normalize the training data and the validation data to be between -1 and 1 (-1 and .992) from single channel data 0 to 255\n",
    "#for i in [X_train, y_train, X_valid, y_valid]:\n",
    "#    for pixel in i:\n",
    "        # was pixel = (pixel - 128) / 128\n",
    "        #pixel = (pixel - 128.) / 128.\n",
    "#        pixel = (pixel - 127.5) / 127.5 \n",
    "\n",
    "#plt.imshow(image)"
   ]
  },
  {
   "cell_type": "code",
   "execution_count": 19,
   "metadata": {},
   "outputs": [
    {
     "name": "stdout",
     "output_type": "stream",
     "text": [
      "Labels that require more data: [0, 6, 11, 14, 15, 16, 17, 18, 19, 20, 21, 22, 23, 24, 26, 27, 28, 29, 30, 31, 32, 33, 34, 35, 36, 37, 39, 40, 41, 42]\n",
      "Additional data samples generated:  (32, 32)\n",
      "New size - X_train:  (115433, 32, 32)\n",
      "New size - y_train:  (115433,)\n"
     ]
    }
   ],
   "source": [
    "# Add more data for low sample lables\n",
    "# For each data label, add 6 more images per image - *JUST FOR TRAINING DATA*\n",
    "index_count = np.bincount(y_train)\n",
    "indexes = [i for i in range(len(index_count)) if index_count[i] < 1200]\n",
    "print(\"Labels that require more data:\", indexes)\n",
    "angles = [-20,-15,-10,10,15,20]\n",
    "\n",
    "# Collect all class labels that require data generation\n",
    "X_data, y_data = zip(*[(X_train_gray[i], y_train[i]) for i in range(0,len(y_train)) if y_train[i] in indexes])\n",
    "\n",
    "# Compute rotation images for X_data\n",
    "X_rotate, y_rotate = zip(*[(Transform(X_data[i],rotation), y_data[i]) for rotation in angles for i in range(0,len(y_data))])\n",
    "\n",
    "# Append the newly generated data to the original data\n",
    "X_train_new = np.append(X_train_gray,X_rotate,axis=0)\n",
    "y_train = np.append(y_train,y_rotate,axis=0)\n",
    "\n",
    "# Print stuff\n",
    "print(\"Additional data samples generated: \", np.shape(X_rotate[0]))\n",
    "print(\"New size - X_train: \", np.shape(X_train_new))\n",
    "print(\"New size - y_train: \", np.shape(y_train))"
   ]
  },
  {
   "cell_type": "code",
   "execution_count": 20,
   "metadata": {
    "collapsed": true
   },
   "outputs": [],
   "source": [
    "# SHUFFLE AND RESHAPE THE DATA\n",
    "\n",
    "# import packages\n",
    "from sklearn.utils import shuffle\n",
    "from numpy import newaxis\n",
    "\n",
    "# First conv layer in tensorflow requires data to be in (none,32,32,1) structure - ADDED\n",
    "X_train_new = X_train_new[..., newaxis]\n",
    "X_valid = X_valid_gray[..., newaxis]\n",
    "X_test = X_test_gray[..., newaxis]\n",
    "\n",
    "\n",
    "# Convert to Grayscale to make it easier to use the MNIST classifier\n",
    "#gray = cv2.cvtColor(image, cv2.COLOR_RGB2GRAY)\n",
    "\n",
    "# Shuffle the training data\n",
    "X_train_new, y_train = shuffle(X_train_new, y_train)\n",
    "# Shuffle the validation data\n",
    "X_valid, y_valid = shuffle(X_valid, y_valid)\n",
    "# Shuffle the test data\n",
    "X_test, y_test = shuffle(X_test, y_test)"
   ]
  },
  {
   "cell_type": "code",
   "execution_count": 21,
   "metadata": {},
   "outputs": [
    {
     "data": {
      "image/png": "[encoded data removed]",
      "text/plain": [
       "<matplotlib.figure.Figure at 0x7f2c1c6384e0>"
      ]
     },
     "metadata": {},
     "output_type": "display_data"
    }
   ],
   "source": [
    "# PLOT UPDATED HISTOGRAM\n",
    "fig,ax = plt.subplots()\n",
    "#histogram of the data\n",
    "n, bins, patches = ax.hist(y_train,n_classes) #,normed=1\n",
    "ax.set_xlabel('Training Dataset Class')\n",
    "ax.set_ylabel('Density')\n",
    "ax.set_title('Updated Histogram of the training data unique classes')\n",
    "#\n",
    "fig.tight_layout()\n",
    "plt.show()\n",
    "\n",
    "fig.savefig('./examples/plot2.png')"
   ]
  },
  {
   "cell_type": "markdown",
   "metadata": {},
   "source": [
    "### Model Architecture"
   ]
  },
  {
   "cell_type": "code",
   "execution_count": 22,
   "metadata": {
    "collapsed": true
   },
   "outputs": [],
   "source": [
    "### Define your architecture here.\n",
    "### Feel free to use as many code cells as needed.\n",
    "\n",
    "# experiment with number of layers, number of filters, dropout\n",
    "\n",
    "# Model Setup\n",
    "import tensorflow as tf\n",
    "from tensorflow.contrib.layers import flatten\n",
    "\n",
    "\n",
    "\n",
    "def LeNet(x):    \n",
    "    # Arguments used for tf.truncated_normal, randomly defines variables for the weights and biases for each layer\n",
    "    mu = 0\n",
    "    sigma = 0.1\n",
    "    \n",
    "    # Layer 1: Convolutional. Input = 32x32x1. Output = 28x28x6.  Changed from 3 input channels to 1\n",
    "    conv1_W = tf.Variable(tf.truncated_normal(shape=(5, 5, 1, 6), mean = mu, stddev = sigma))\n",
    "    conv1_b = tf.Variable(tf.zeros(6))\n",
    "    conv1   = tf.nn.conv2d(x, conv1_W, strides=[1, 1, 1, 1], padding='VALID') + conv1_b\n",
    "    \n",
    "    # Activation.\n",
    "    conv1 = tf.nn.relu(conv1)\n",
    "    \n",
    "    # Dropout ADDED\n",
    "    conv1 = tf.nn.dropout(conv1, keep_prob)\n",
    "\n",
    "    # Pooling. Input = 28x28x6. Output = 14x14x6.\n",
    "    conv1 = tf.nn.max_pool(conv1, ksize=[1, 2, 2, 1], strides=[1, 2, 2, 1], padding='VALID')\n",
    "\n",
    "    # Layer 2: Convolutional. Output = 10x10x16.\n",
    "    conv2_W = tf.Variable(tf.truncated_normal(shape=(5, 5, 6, 16), mean = mu, stddev = sigma))\n",
    "    conv2_b = tf.Variable(tf.zeros(16))\n",
    "    conv2   = tf.nn.conv2d(conv1, conv2_W, strides=[1, 1, 1, 1], padding='VALID') + conv2_b\n",
    "    \n",
    "    # Activation.\n",
    "    conv2 = tf.nn.relu(conv2)\n",
    "    \n",
    "    # Dropout ADDED\n",
    "    conv2 = tf.nn.dropout(conv2, keep_prob)\n",
    "\n",
    "    # Pooling. Input = 10x10x16. Output = 5x5x16.\n",
    "    conv2 = tf.nn.max_pool(conv2, ksize=[1, 2, 2, 1], strides=[1, 2, 2, 1], padding='VALID')\n",
    "\n",
    "    # Flatten. Input = 5x5x16. Output = 400.\n",
    "    fc0   = flatten(conv2)\n",
    "    \n",
    "    # Layer 3: Fully Connected. Input = 400. Output = 120.\n",
    "    fc1_W = tf.Variable(tf.truncated_normal(shape=(400, 120), mean = mu, stddev = sigma))\n",
    "    fc1_b = tf.Variable(tf.zeros(120))\n",
    "    fc1   = tf.matmul(fc0, fc1_W) + fc1_b\n",
    "    \n",
    "    # Activation.\n",
    "    fc1    = tf.nn.relu(fc1)\n",
    "    \n",
    "    #  ADDED 1st dropout per reference model\n",
    "    #drop1 = tf.nn.dropout(fc1, keep_prob)\n",
    "\n",
    "    # Layer 4: Fully Connected. Input = 120. Output = 84.\n",
    "    fc2_W  = tf.Variable(tf.truncated_normal(shape=(120, 84), mean = mu, stddev = sigma))\n",
    "    fc2_b  = tf.Variable(tf.zeros(84))\n",
    "    # subbed drop1 for fc1\n",
    "    fc2    = tf.matmul(fc1, fc2_W) + fc2_b\n",
    "    \n",
    "    # Activation.\n",
    "    fc2    = tf.nn.relu(fc2)\n",
    "    \n",
    "    # ADDED 2nd dropout per reference model\n",
    "    #drop2 = tf.nn.dropout(fc2, keep_prob)\n",
    "\n",
    "    # Layer 5: Fully Connected. Input = 84. Output = 43.\n",
    "    fc3_W  = tf.Variable(tf.truncated_normal(shape=(84, 43), mean = mu, stddev = sigma))\n",
    "    fc3_b  = tf.Variable(tf.zeros(43))\n",
    "    \n",
    "    # subbed drop2 for fc2\n",
    "    logits = tf.matmul(fc2, fc3_W) + fc3_b\n",
    "    \n",
    "\n",
    "    \n",
    "    return logits\n"
   ]
  },
  {
   "cell_type": "markdown",
   "metadata": {},
   "source": [
    "### Train, Validate and Test the Model"
   ]
  },
  {
   "cell_type": "markdown",
   "metadata": {},
   "source": [
    "A validation set can be used to assess how well the model is performing. A low accuracy on the training and validation\n",
    "sets imply underfitting. A high accuracy on the training set but low accuracy on the validation set implies overfitting."
   ]
  },
  {
   "cell_type": "code",
   "execution_count": 23,
   "metadata": {
    "collapsed": true
   },
   "outputs": [],
   "source": [
    "### Train your model here.\n",
    "### Calculate and report the accuracy on the training and validation set.\n",
    "### Once a final model architecture is selected, \n",
    "### the accuracy on the test set should be calculated and reported as well.\n",
    "### Feel free to use as many code cells as needed.\n",
    "\n",
    "from sklearn.utils import shuffle\n",
    "\n",
    "# ADDED\n",
    "keep_prob = tf.placeholder(tf.float32)\n",
    "\n",
    "x = tf.placeholder(tf.float32, (None, 32, 32, 1)) # Changed to gray from RGB (3) \n",
    "y = tf.placeholder(tf.int32, (None))\n",
    "one_hot_y = tf.one_hot(y, 43)\n",
    "\n",
    "# PARAMETERS\n",
    "EPOCHS = 20 # EPOCHS default 10\n",
    "BATCH_SIZE = 128 # 128 default\n",
    "\n",
    "rate = 0.001 # LEARNING RATE  default .001\n",
    "\n",
    "#keep_prob = .7 # 0.9 default USING \"feed_dict\" FOR EACH evaluate\n"
   ]
  },
  {
   "cell_type": "code",
   "execution_count": 24,
   "metadata": {
    "collapsed": true
   },
   "outputs": [],
   "source": [
    "# TRAINING PIPELINE\n",
    "\n",
    "\n",
    "\n",
    "logits = LeNet(x)\n",
    "cross_entropy = tf.nn.softmax_cross_entropy_with_logits(labels=one_hot_y, logits=logits)\n",
    "loss_operation = tf.reduce_mean(cross_entropy)\n",
    "optimizer = tf.train.AdamOptimizer(learning_rate = rate)\n",
    "training_operation = optimizer.minimize(loss_operation)"
   ]
  },
  {
   "cell_type": "code",
   "execution_count": 25,
   "metadata": {
    "collapsed": true
   },
   "outputs": [],
   "source": [
    "# MODEL EVALUATION\n",
    "\n",
    "correct_prediction = tf.equal(tf.argmax(logits, 1), tf.argmax(one_hot_y, 1))\n",
    "accuracy_operation = tf.reduce_mean(tf.cast(correct_prediction, tf.float32))\n",
    "saver = tf.train.Saver()\n",
    "\n",
    "def evaluate(X_data, y_data, sess):\n",
    "    num_examples = X_data.shape[0]\n",
    "    total_accuracy = 0\n",
    "    total_loss = 0 # ADDED\n",
    "    sess = tf.get_default_session()\n",
    "    for offset in range(0, num_examples, BATCH_SIZE):\n",
    "        batch_x, batch_y = X_data[offset:offset+BATCH_SIZE], y_data[offset:offset+BATCH_SIZE]\n",
    "        # OBTAIN loss and accuracy in same TF session - need to pass keep_prob?\n",
    "        loss, accuracy = sess.run([loss_operation, accuracy_operation], feed_dict={x: batch_x, y: batch_y, keep_prob: 1.0})\n",
    "        total_accuracy += (accuracy * batch_x.shape[0])\n",
    "        total_loss += (loss * batch_x.shape[0])\n",
    "    return total_loss / num_examples, total_accuracy / num_examples\n",
    "\n",
    "# Return prediction and top_k values    ADDED\n",
    "def predict(X_data, y_data):\n",
    "    predictions = sess.run(tf.argmax(logits, 1),feed_dict={x: X_data, y: y_data,keep_prob: 1.0})\n",
    "    softmax = tf.nn.softmax(logits)\n",
    "    top_k = sess.run(tf.nn.top_k(softmax,k=5),feed_dict={x: X_data, y: y_data, keep_prob: 1.0})   #\n",
    "    return predictions, top_k"
   ]
  },
  {
   "cell_type": "code",
   "execution_count": 26,
   "metadata": {},
   "outputs": [
    {
     "name": "stdout",
     "output_type": "stream",
     "text": [
      "Training...\n",
      "\n",
      "EPOCH 1 ...\n",
      "Training Accuracy = 0.870,\n",
      "Validation Accuracy = 0.807\n",
      "\n",
      "EPOCH 2 ...\n",
      "Training Accuracy = 0.923,\n",
      "Validation Accuracy = 0.882\n",
      "\n",
      "EPOCH 3 ...\n",
      "Training Accuracy = 0.954,\n",
      "Validation Accuracy = 0.903\n",
      "\n",
      "EPOCH 4 ...\n",
      "Training Accuracy = 0.963,\n",
      "Validation Accuracy = 0.921\n",
      "\n",
      "EPOCH 5 ...\n",
      "Training Accuracy = 0.970,\n",
      "Validation Accuracy = 0.927\n",
      "\n",
      "EPOCH 6 ...\n",
      "Training Accuracy = 0.972,\n",
      "Validation Accuracy = 0.929\n",
      "\n",
      "EPOCH 7 ...\n",
      "Training Accuracy = 0.980,\n",
      "Validation Accuracy = 0.941\n",
      "\n",
      "EPOCH 8 ...\n",
      "Training Accuracy = 0.974,\n",
      "Validation Accuracy = 0.942\n",
      "\n",
      "EPOCH 9 ...\n",
      "Training Accuracy = 0.984,\n",
      "Validation Accuracy = 0.946\n",
      "\n",
      "EPOCH 10 ...\n",
      "Training Accuracy = 0.986,\n",
      "Validation Accuracy = 0.943\n",
      "\n",
      "EPOCH 11 ...\n",
      "Training Accuracy = 0.987,\n",
      "Validation Accuracy = 0.940\n",
      "\n",
      "EPOCH 12 ...\n",
      "Training Accuracy = 0.984,\n",
      "Validation Accuracy = 0.941\n",
      "\n",
      "EPOCH 13 ...\n",
      "Training Accuracy = 0.991,\n",
      "Validation Accuracy = 0.956\n",
      "\n",
      "EPOCH 14 ...\n",
      "Training Accuracy = 0.988,\n",
      "Validation Accuracy = 0.957\n",
      "\n",
      "EPOCH 15 ...\n",
      "Training Accuracy = 0.990,\n",
      "Validation Accuracy = 0.949\n",
      "\n",
      "EPOCH 16 ...\n",
      "Training Accuracy = 0.987,\n",
      "Validation Accuracy = 0.948\n",
      "\n",
      "EPOCH 17 ...\n",
      "Training Accuracy = 0.993,\n",
      "Validation Accuracy = 0.950\n",
      "\n",
      "EPOCH 18 ...\n",
      "Training Accuracy = 0.992,\n",
      "Validation Accuracy = 0.949\n",
      "\n",
      "EPOCH 19 ...\n",
      "Training Accuracy = 0.991,\n",
      "Validation Accuracy = 0.952\n",
      "\n",
      "EPOCH 20 ...\n",
      "Training Accuracy = 0.992,\n",
      "Validation Accuracy = 0.947\n",
      "\n",
      "Model saved\n"
     ]
    }
   ],
   "source": [
    "# TRAIN THE MODEL\n",
    "\n",
    "# ADDED\n",
    "train_loss_history = []\n",
    "validation_loss_history = []\n",
    "train_accuracy_history = []\n",
    "validation_accuracy_history = []\n",
    "\n",
    "with tf.Session() as sess:\n",
    "    sess.run(tf.global_variables_initializer())\n",
    "    num_examples = len(X_train)\n",
    "    \n",
    "    print(\"Training...\")\n",
    "    print()\n",
    "    for i in range(EPOCHS):\n",
    "        X_train_new, y_train = shuffle(X_train_new, y_train)    # CHANGED X_train to X_train_new - DNW\n",
    "        for offset in range(0, num_examples, BATCH_SIZE):\n",
    "            end = offset + BATCH_SIZE\n",
    "            batch_x, batch_y = X_train_new[offset:end], y_train[offset:end]  # CHANGED X_train to X_train_new - DNW\n",
    "            # need to ADD  keep_prob: 0.5\n",
    "            sess.run(training_operation, feed_dict={x: batch_x, y: batch_y, keep_prob: 0.5})\n",
    "            \n",
    "        # ADDED\n",
    "        train_loss, train_accuracy = evaluate(X_train_new, y_train, sess) # CHANGED X_train to X_train_new - DNW\n",
    "        train_loss_history.append(train_loss)\n",
    "        train_accuracy_history.append(train_accuracy)\n",
    "        validation_loss, validation_accuracy = evaluate(X_valid, y_valid, sess)\n",
    "        validation_loss_history.append(validation_loss)\n",
    "        validation_accuracy_history.append(validation_accuracy)\n",
    "        \n",
    "        print(\"EPOCH {} ...\".format(i+1))\n",
    "        print(\"Training Accuracy = {:.3f},\".format(train_accuracy)) # ADDED\n",
    "        print(\"Validation Accuracy = {:.3f}\".format(validation_accuracy))\n",
    "        print()\n",
    "    \n",
    "         # Evaluate on the test data\n",
    "    #test_loss, test_acc = evaluate(X_test, y_test, sess)\n",
    "    #print(\"Test loss = {:.3f}\".format(test_loss))\n",
    "    #print(\"Test accuracy = {:.3f}\".format(test_acc))\n",
    "\n",
    "    #loss_plot = plt.subplot(2,1,1)\n",
    "    #loss_plot.set_title('Loss')\n",
    "    #loss_plot.plot(training_loss_history, 'r', label='Training Loss')\n",
    "    #loss_plot.plot(validation_loss_history, 'b', label='Validation Loss')\n",
    "    #loss_plot.set_xlim([0, EPOCHS])\n",
    "    #loss_plot.legend(loc=4)\n",
    "    #acc_plot = plt.subplot(2,1,2)\n",
    "    #acc_plot.set_title('Accuracy')\n",
    "    #acc_plot.plot(training_accuracy_history,'r', label='Training Accuracy')\n",
    "    #acc_plot.plot(validation_accuracy_history, 'b', label='Validation Accuracy')\n",
    "    #acc_plot.set_ylim([0, 1.0])\n",
    "    #acc_plot.set_xlim([0, EPOCHS])\n",
    "    #acc_plot.legend(loc=4)\n",
    "    #plt.tight_layout()\n",
    "    #plt.show()\n",
    "    \n",
    "    saver.save(sess, './lenet')\n",
    "    print(\"Model saved\")"
   ]
  },
  {
   "cell_type": "code",
   "execution_count": 33,
   "metadata": {},
   "outputs": [
    {
     "data": {
      "image/png": "[encoded data removed]",
      "text/plain": [
       "<matplotlib.figure.Figure at 0x7f2bd1a63080>"
      ]
     },
     "metadata": {},
     "output_type": "display_data"
    }
   ],
   "source": [
    "# LOSS PLOTS\n",
    "loss_plot = plt.subplot(1,1,1)\n",
    "loss_plot.set_title('Loss')\n",
    "loss_plot.plot(train_loss_history, 'r', label='Training Loss')\n",
    "loss_plot.plot(validation_loss_history, 'b', label='Validation Loss')\n",
    "loss_plot.set_xlim([0, EPOCHS])\n",
    "loss_plot.legend(loc=4)\n",
    "\n",
    "plt.savefig('./examples/plot3.png')"
   ]
  },
  {
   "cell_type": "code",
   "execution_count": 34,
   "metadata": {},
   "outputs": [
    {
     "name": "stdout",
     "output_type": "stream",
     "text": [
      "Test Accuracy = 0.932\n"
     ]
    }
   ],
   "source": [
    "# EVALUATE ACCURACY on test data\n",
    "with tf.Session() as sess:\n",
    "    saver.restore(sess, tf.train.latest_checkpoint('.'))\n",
    "\n",
    "    test_loss, test_accuracy = evaluate(X_test, y_test, sess)\n",
    "    print(\"Test Accuracy = {:.3f}\".format(test_accuracy))\n"
   ]
  },
  {
   "cell_type": "markdown",
   "metadata": {},
   "source": [
    "---\n",
    "\n",
    "## Step 3: Test a Model on New Images\n",
    "\n",
    "To give yourself more insight into how your model is working, download at least five pictures of German traffic signs from the web and use your model to predict the traffic sign type.\n",
    "\n",
    "You may find `signnames.csv` useful as it contains mappings from the class id (integer) to the actual sign name."
   ]
  },
  {
   "cell_type": "markdown",
   "metadata": {},
   "source": [
    "### Load and Output the Images"
   ]
  },
  {
   "cell_type": "code",
   "execution_count": 18,
   "metadata": {},
   "outputs": [
    {
     "data": {
      "image/png": "[encoded data removed]",
      "text/plain": [
       "<matplotlib.figure.Figure at 0x7f20743e4f28>"
      ]
     },
     "metadata": {},
     "output_type": "display_data"
    },
    {
     "data": {
      "image/png": "[encoded data removed]",
      "text/plain": [
       "<matplotlib.figure.Figure at 0x7f20bf92b358>"
      ]
     },
     "metadata": {},
     "output_type": "display_data"
    }
   ],
   "source": [
    "### Load the images and plot them here.\n",
    "### Feel free to use as many code cells as needed.\n",
    "\n",
    "import glob\n",
    "#import matplotlib.image as mpimg\n",
    "\n",
    "# Test on new images from the internet\n",
    "X_new_test = []\n",
    "for filename in glob.glob('./examples/test_*.png'):\n",
    "    X_new_test.append(cv2.imread(filename))\n",
    "\n",
    "# Make sure the input images are the same size as training set\n",
    "X_new_test = [resizeImage(image) for image in X_new_test]\n",
    "\n",
    "\n",
    "fig1 = plt.figure(figsize=(10,10))\n",
    "for j in range(0,5):\n",
    "    plt.subplot(1,5,j+1)\n",
    "    plt.imshow(cv2.cvtColor(X_new_test[j],cv2.COLOR_BGR2RGB))\n",
    "\n",
    "fig2 = plt.figure(figsize=(10,10))\n",
    "for j in range(0,5):\n",
    "    plt.subplot(1,5,j+1)\n",
    "    plt.imshow(pipeline(X_new_test[j]))\n",
    "\n",
    "X_test_new = np.zeros((len(X_new_test),32,32))\n",
    "# Create labels\n",
    "for i in range(0,5):\n",
    "    X_test_new[i] = pipeline(X_new_test[i])\n",
    "\n",
    "X_new_test = X_test_new[..., newaxis]\n",
    "y_new_test = [1,4,11,25,33]\n",
    "\n",
    "\n",
    "\n"
   ]
  },
  {
   "cell_type": "markdown",
   "metadata": {},
   "source": [
    "### Predict the Sign Type for Each Image"
   ]
  },
  {
   "cell_type": "code",
   "execution_count": 20,
   "metadata": {},
   "outputs": [
    {
     "name": "stdout",
     "output_type": "stream",
     "text": [
      "Labels:  [1, 4, 11, 25, 33]\n",
      "Predictions:  [ 1  0 11 25 33]\n"
     ]
    }
   ],
   "source": [
    "### Run the predictions here and use the model to output the prediction for each image.\n",
    "### Make sure to pre-process the images with the same pre-processing pipeline used earlier.\n",
    "### Feel free to use as many code cells as needed.\n",
    "\n",
    "\n",
    "with tf.Session() as sess:\n",
    "    saver.restore(sess, tf.train.latest_checkpoint('.'))\n",
    "    predictions,topk = predict(X_new_test, y_new_test)\n",
    "    print(\"Labels: \", y_new_test)\n",
    "    print(\"Predictions: \",predictions)"
   ]
  },
  {
   "cell_type": "markdown",
   "metadata": {},
   "source": [
    "### Analyze Performance"
   ]
  },
  {
   "cell_type": "code",
   "execution_count": 21,
   "metadata": {},
   "outputs": [
    {
     "name": "stdout",
     "output_type": "stream",
     "text": [
      "Accuracy = 0.800\n"
     ]
    }
   ],
   "source": [
    "### Calculate the accuracy for these 5 new images. \n",
    "### For example, if the model predicted 1 out of 5 signs correctly, it's 20% accurate on these new images.\n",
    "with tf.Session() as sess:\n",
    "    saver.restore(sess, tf.train.latest_checkpoint('.'))\n",
    "    loss, accuracy = evaluate(X_new_test, y_new_test, sess)\n",
    "    print(\"Accuracy = {:.3f}\".format(accuracy))\n",
    "    # print()\n",
    "    # print(topk)"
   ]
  },
  {
   "cell_type": "markdown",
   "metadata": {},
   "source": [
    "### Output Top 5 Softmax Probabilities For Each Image Found on the Web"
   ]
  },
  {
   "cell_type": "markdown",
   "metadata": {},
   "source": [
    "For each of the new images, print out the model's softmax probabilities to show the **certainty** of the model's predictions (limit the output to the top 5 probabilities for each image). [`tf.nn.top_k`](https://www.tensorflow.org/versions/r0.12/api_docs/python/nn.html#top_k) could prove helpful here. \n",
    "\n",
    "The example below demonstrates how tf.nn.top_k can be used to find the top k predictions for each image.\n",
    "\n",
    "`tf.nn.top_k` will return the values and indices (class ids) of the top k predictions. So if k=3, for each sign, it'll return the 3 largest probabilities (out of a possible 43) and the correspoding class ids.\n",
    "\n",
    "Take this numpy array as an example. The values in the array represent predictions. The array contains softmax probabilities for five candidate images with six possible classes. `tk.nn.top_k` is used to choose the three classes with the highest probability:\n",
    "\n",
    "```\n",
    "# (5, 6) array\n",
    "a = np.array([[ 0.24879643,  0.07032244,  0.12641572,  0.34763842,  0.07893497,\n",
    "         0.12789202],\n",
    "       [ 0.28086119,  0.27569815,  0.08594638,  0.0178669 ,  0.18063401,\n",
    "         0.15899337],\n",
    "       [ 0.26076848,  0.23664738,  0.08020603,  0.07001922,  0.1134371 ,\n",
    "         0.23892179],\n",
    "       [ 0.11943333,  0.29198961,  0.02605103,  0.26234032,  0.1351348 ,\n",
    "         0.16505091],\n",
    "       [ 0.09561176,  0.34396535,  0.0643941 ,  0.16240774,  0.24206137,\n",
    "         0.09155967]])\n",
    "```\n",
    "\n",
    "Running it through `sess.run(tf.nn.top_k(tf.constant(a), k=3))` produces:\n",
    "\n",
    "```\n",
    "TopKV2(values=array([[ 0.34763842,  0.24879643,  0.12789202],\n",
    "       [ 0.28086119,  0.27569815,  0.18063401],\n",
    "       [ 0.26076848,  0.23892179,  0.23664738],\n",
    "       [ 0.29198961,  0.26234032,  0.16505091],\n",
    "       [ 0.34396535,  0.24206137,  0.16240774]]), indices=array([[3, 0, 5],\n",
    "       [0, 1, 4],\n",
    "       [0, 5, 1],\n",
    "       [1, 3, 5],\n",
    "       [1, 4, 3]], dtype=int32))\n",
    "```\n",
    "\n",
    "Looking just at the first row we get `[ 0.34763842,  0.24879643,  0.12789202]`, you can confirm these are the 3 largest probabilities in `a`. You'll also notice `[3, 0, 5]` are the corresponding indices."
   ]
  },
  {
   "cell_type": "code",
   "execution_count": 22,
   "metadata": {},
   "outputs": [
    {
     "name": "stdout",
     "output_type": "stream",
     "text": [
      "TopKV2(values=array([[ 1.    ,  0.    ,  0.    ,  0.    ,  0.    ],\n",
      "       [ 0.9693,  0.0207,  0.0046,  0.0021,  0.0015],\n",
      "       [ 0.9988,  0.0007,  0.0003,  0.0002,  0.    ],\n",
      "       [ 0.9998,  0.0001,  0.    ,  0.    ,  0.    ],\n",
      "       [ 0.9975,  0.0004,  0.0004,  0.0003,  0.0003]], dtype=float32), indices=array([[ 1, 18, 11,  0, 26],\n",
      "       [ 0,  4, 39,  1, 14],\n",
      "       [11, 30, 21, 34, 37],\n",
      "       [25, 35, 22, 31, 26],\n",
      "       [33, 40, 39, 11,  5]], dtype=int32))\n"
     ]
    }
   ],
   "source": [
    "### Print out the top five softmax probabilities for the predictions on the German traffic sign images found on the web. \n",
    "### Feel free to use as many code cells as needed.\n",
    "\n",
    "with tf.Session() as sess:\n",
    "    saver.restore(sess, tf.train.latest_checkpoint('.'))\n",
    "    predictions,topk = predict(X_new_test, y_new_test)\n",
    "    #print(\"Accuracy = {:.3f}\".format(accuracy))\n",
    "    #float_formatter = lambda x: \"%.3f\" % x\n",
    "    np.set_printoptions(precision=4, suppress=True)\n",
    "    print(topk)"
   ]
  },
  {
   "cell_type": "markdown",
   "metadata": {},
   "source": [
    "### Project Writeup\n",
    "\n",
    "Once you have completed the code implementation, document your results in a project writeup using this [template](https://github.com/udacity/CarND-Traffic-Sign-Classifier-Project/blob/master/writeup_template.md) as a guide. The writeup can be in a markdown or pdf file. "
   ]
  },
  {
   "cell_type": "markdown",
   "metadata": {},
   "source": [
    "> **Note**: Once you have completed all of the code implementations and successfully answered each question above, you may finalize your work by exporting the iPython Notebook as an HTML document. You can do this by using the menu above and navigating to  \\n\",\n",
    "    \"**File -> Download as -> HTML (.html)**. Include the finished document along with this notebook as your submission."
   ]
  },
  {
   "cell_type": "markdown",
   "metadata": {},
   "source": [
    "---\n",
    "\n",
    "## Step 4 (Optional): Visualize the Neural Network's State with Test Images\n",
    "\n",
    " This Section is not required to complete but acts as an additional excersise for understaning the output of a neural network's weights. While neural networks can be a great learning device they are often referred to as a black box. We can understand what the weights of a neural network look like better by plotting their feature maps. After successfully training your neural network you can see what it's feature maps look like by plotting the output of the network's weight layers in response to a test stimuli image. From these plotted feature maps, it's possible to see what characteristics of an image the network finds interesting. For a sign, maybe the inner network feature maps react with high activation to the sign's boundary outline or to the contrast in the sign's painted symbol.\n",
    "\n",
    " Provided for you below is the function code that allows you to get the visualization output of any tensorflow weight layer you want. The inputs to the function should be a stimuli image, one used during training or a new one you provided, and then the tensorflow variable name that represents the layer's state during the training process, for instance if you wanted to see what the [LeNet lab's](https://classroom.udacity.com/nanodegrees/nd013/parts/fbf77062-5703-404e-b60c-95b78b2f3f9e/modules/6df7ae49-c61c-4bb2-a23e-6527e69209ec/lessons/601ae704-1035-4287-8b11-e2c2716217ad/concepts/d4aca031-508f-4e0b-b493-e7b706120f81) feature maps looked like for it's second convolutional layer you could enter conv2 as the tf_activation variable.\n",
    "\n",
    "For an example of what feature map outputs look like, check out NVIDIA's results in their paper [End-to-End Deep Learning for Self-Driving Cars](https://devblogs.nvidia.com/parallelforall/deep-learning-self-driving-cars/) in the section Visualization of internal CNN State. NVIDIA was able to show that their network's inner weights had high activations to road boundary lines by comparing feature maps from an image with a clear path to one without. Try experimenting with a similar test to show that your trained network's weights are looking for interesting features, whether it's looking at differences in feature maps from images with or without a sign, or even what feature maps look like in a trained network vs a completely untrained one on the same sign image.\n",
    "\n",
    "<figure>\n",
    " <img src=\"visualize_cnn.png\" width=\"380\" alt=\"Combined Image\" />\n",
    " <figcaption>\n",
    " <p></p> \n",
    " <p style=\"text-align: center;\"> Your output should look something like this (above)</p> \n",
    " </figcaption>\n",
    "</figure>\n",
    " <p></p> \n"
   ]
  },
  {
   "cell_type": "code",
   "execution_count": 16,
   "metadata": {
    "collapsed": true
   },
   "outputs": [],
   "source": [
    "### Visualize your network's feature maps here.\n",
    "### Feel free to use as many code cells as needed.\n",
    "\n",
    "# image_input: the test image being fed into the network to produce the feature maps\n",
    "# tf_activation: should be a tf variable name used during your training procedure that represents the calculated state of a specific weight layer\n",
    "# activation_min/max: can be used to view the activation contrast in more detail, by default matplot sets min and max to the actual min and max values of the output\n",
    "# plt_num: used to plot out multiple different weight feature map sets on the same block, just extend the plt number for each new feature map entry\n",
    "\n",
    "def outputFeatureMap(image_input, tf_activation, activation_min=-1, activation_max=-1 ,plt_num=1):\n",
    "    # Here make sure to preprocess your image_input in a way your network expects\n",
    "    # with size, normalization, ect if needed\n",
    "    # image_input =\n",
    "    # Note: x should be the same name as your network's tensorflow data placeholder variable\n",
    "    # If you get an error tf_activation is not defined it may be having trouble accessing the variable from inside a function\n",
    "    activation = tf_activation.eval(session=sess,feed_dict={x : image_input})\n",
    "    featuremaps = activation.shape[3]\n",
    "    plt.figure(plt_num, figsize=(15,15))\n",
    "    for featuremap in range(featuremaps):\n",
    "        plt.subplot(6,8, featuremap+1) # sets the number of feature maps to show on each row and column\n",
    "        plt.title('FeatureMap ' + str(featuremap)) # displays the feature map number\n",
    "        if activation_min != -1 & activation_max != -1:\n",
    "            plt.imshow(activation[0,:,:, featuremap], interpolation=\"nearest\", vmin =activation_min, vmax=activation_max, cmap=\"gray\")\n",
    "        elif activation_max != -1:\n",
    "            plt.imshow(activation[0,:,:, featuremap], interpolation=\"nearest\", vmax=activation_max, cmap=\"gray\")\n",
    "        elif activation_min !=-1:\n",
    "            plt.imshow(activation[0,:,:, featuremap], interpolation=\"nearest\", vmin=activation_min, cmap=\"gray\")\n",
    "        else:\n",
    "            plt.imshow(activation[0,:,:, featuremap], interpolation=\"nearest\", cmap=\"gray\")"
   ]
  }
 ],
 "metadata": {
  "anaconda-cloud": {},
  "kernelspec": {
   "display_name": "Python 3",
   "language": "python",
   "name": "python3"
  },
  "language_info": {
   "codemirror_mode": {
    "name": "ipython",
    "version": 3
   },
   "file_extension": ".py",
   "mimetype": "text/x-python",
   "name": "python",
   "nbconvert_exporter": "python",
   "pygments_lexer": "ipython3",
   "version": "3.5.2"
  },
  "widgets": {
   "state": {},
   "version": "1.1.2"
  }
 },
 "nbformat": 4,
 "nbformat_minor": 1
}
